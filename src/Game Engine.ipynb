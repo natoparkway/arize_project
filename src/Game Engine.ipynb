{
 "cells": [
  {
   "cell_type": "code",
   "execution_count": 1,
   "id": "b0aa922e-f50b-49c9-8673-ec9c83fac07f",
   "metadata": {},
   "outputs": [],
   "source": [
    "import getpass\n",
    "import os\n",
    "\n",
    "for key in [\"OPENAI_API_KEY\"]: #, \"PX_SPACE_KEY\", \"PX_API_KEY\"]:\n",
    "    if not os.environ.get(key):\n",
    "        print(f\"Please enter key: '{key}'\")\n",
    "        os.environ[key] = getpass.getpass()\n",
    "\n"
   ]
  },
  {
   "cell_type": "markdown",
   "id": "1f18a224-eb23-468f-b974-7be22384f554",
   "metadata": {},
   "source": [
    "### Goals:\n",
    "1. Very basic Zork clone\n",
    "2. Function calling to play a video when a cutscene occurs\n",
    "    - https://github.com/maxcurzi/tplay\n",
    "    - https://github.com/joelibaceta/video-to-ascii\n",
    "\n",
    "#### Evaluation\n",
    "1. Is the right room document called up as context for each scene?\n",
    "2. Does the cutscene play?"
   ]
  },
  {
   "cell_type": "code",
   "execution_count": 2,
   "id": "1dfd96b3-7be5-41a1-a680-de607516d014",
   "metadata": {},
   "outputs": [
    {
     "name": "stdout",
     "output_type": "stream",
     "text": [
      "No active session to close\n",
      "🌍 To view the Phoenix app in your browser, visit http://localhost:6006/\n",
      "📺 To view the Phoenix app in a notebook, run `px.active_session().view()`\n",
      "📖 For more information on how to use Phoenix, check out https://docs.arize.com/phoenix\n"
     ]
    }
   ],
   "source": [
    "import nest_asyncio\n",
    "import phoenix as px\n",
    "\n",
    "nest_asyncio.apply()\n",
    "px.close_app()\n",
    "px.launch_app()\n",
    "\n",
    "from phoenix.trace.langchain import LangChainInstrumentor\n",
    "\n",
    "LangChainInstrumentor().instrument()"
   ]
  },
  {
   "cell_type": "code",
   "execution_count": 3,
   "id": "2681c5d5-b074-4795-9121-2014583d5180",
   "metadata": {},
   "outputs": [],
   "source": [
    "import bs4\n",
    "from langchain_community.document_loaders import DirectoryLoader, TextLoader\n",
    "from langchain_community.vectorstores import Chroma\n",
    "from langchain_core.output_parsers import StrOutputParser\n",
    "from langchain_core.output_parsers.openai_tools import JsonOutputToolsParser\n",
    "\n",
    "from langchain_core.runnables import RunnablePassthrough\n",
    "from langchain_openai import ChatOpenAI, OpenAIEmbeddings\n",
    "from langchain_text_splitters import RecursiveCharacterTextSplitter\n",
    "from langchain_core.prompts import ChatPromptTemplate\n",
    "\n",
    "from IPython.display import Video\n",
    "\n"
   ]
  },
  {
   "cell_type": "code",
   "execution_count": 4,
   "id": "a3611b84-c601-48c8-8244-81646251b549",
   "metadata": {},
   "outputs": [],
   "source": [
    "text_prompt = \"\"\"\n",
    "### General Instructions\n",
    "1. You are acting as the game engine for a text based adventure game. You are the equivalent of a D&D dungeon master.\n",
    "2. The human controlling the player character will issue instructions to move their character around. \n",
    "3. You will respond in a way consistent with their previous actions and with the game state. Never acknowledge that a game is being played.\n",
    "\n",
    "### Specific Instructions\n",
    "You must:\n",
    "1. Write in the second person and use the word \"you\" to describe the character\n",
    "2. Maintain inventory management\n",
    "\n",
    "### Inventory Rules\n",
    "1. When a player picks up an object, it is added to their inventory. It remains in their inventory until it is used. \n",
    "2. Inventory is empty to start \n",
    "3. Inventory has a capacity of 10 items\n",
    "\n",
    "### Cutscene Interactions\n",
    "1. When the player touches the glowing orb in the north room a cutscene should be triggered. Very specifically, if the player says \"I touch the orb\" then you should\n",
    "set trigger_orb_cutscene to \"true\"\n",
    "\n",
    "### Description Rules\n",
    "All descriptions come from room documents. You cannot make up any additional details.\n",
    "\n",
    "{context}\n",
    "\n",
    "User Interaction: {interaction}\n",
    "\n",
    "### Response:\n",
    "\n",
    "One to three sentence response to the user interaction.\n",
    "\"\"\".strip()"
   ]
  },
  {
   "cell_type": "code",
   "execution_count": 5,
   "id": "6e566874-0ff2-4264-831c-9984d90734ef",
   "metadata": {},
   "outputs": [],
   "source": [
    "from langchain_core.pydantic_v1 import BaseModel, Field\n",
    "from typing import List\n",
    "\n",
    "\n",
    "class Inventory(BaseModel):\n",
    "    items: List[str] = Field(..., description=\"items in the player's inventory\")\n",
    "    max_capacity: int = Field(10, description=\"the maximum number of items the player can hold\")\n",
    "\n",
    "class GameState(BaseModel):\n",
    "    inventory: Inventory = Field(..., description=\"the player's inventory\")\n",
    "    response: str = Field(..., description=\"your response to the player based on their latest interaction as described in the prompt\")\n",
    "    # room: str = Field(..., description=\"the room in which the character is currently in\")\n",
    "    trigger_orb_cutscene: bool = Field(..., description=\"whether an orb cutscene should occur as described in the prompt\")\n",
    "\n"
   ]
  },
  {
   "cell_type": "code",
   "execution_count": 11,
   "id": "f2c779db-80f3-420d-864b-0f0aa2d8d560",
   "metadata": {},
   "outputs": [
    {
     "name": "stdout",
     "output_type": "stream",
     "text": [
      "2\n"
     ]
    },
    {
     "data": {
      "text/plain": [
       "[]"
      ]
     },
     "execution_count": 11,
     "metadata": {},
     "output_type": "execute_result"
    }
   ],
   "source": [
    "# def load_retriever():\n",
    "loader = DirectoryLoader('game_data', glob=\"room_*\", loader_cls=TextLoader)\n",
    "docs = loader.load()\n",
    "print(len(docs))\n",
    "\n",
    "text_splitter = RecursiveCharacterTextSplitter(chunk_size=1000, chunk_overlap=200)\n",
    "splits = text_splitter.split_documents(docs)\n",
    "\n",
    "vectorstore = Chroma.from_documents(documents=splits, embedding=OpenAIEmbeddings())\n",
    "retriever = vectorstore.as_retriever(search_kwargs={\"k\": 1})  # we only want one room to be active at a time\n",
    "\n",
    "prompt = ChatPromptTemplate.from_template(text_prompt)\n",
    "retriever = load_retriever()\n",
    "\n",
    "llm = ChatOpenAI(model_name=\"gpt-4-turbo-preview\", temperature=0).bind_tools([GameState])\n",
    "llm_chain = (\n",
    "    {\"context\": retriever, \"interaction\": RunnablePassthrough()}\n",
    "    | prompt\n",
    "    | llm\n",
    "    | JsonOutputToolsParser()\n",
    ")\n",
    "\n",
    "llm_chain.invoke(\"I look around me\")"
   ]
  },
  {
   "cell_type": "code",
   "execution_count": null,
   "id": "102d7d8c-410a-43e8-bbed-b3108de94314",
   "metadata": {},
   "outputs": [],
   "source": [
    "class GameEngine:\n",
    "    def __init__(self, llm_chain):\n",
    "        self.llm_chain = llm_chain\n",
    "        self.state = {}\n",
    "\n",
    "    def input(self, text):\n",
    "        state = self.llm_chain.invoke(text)\n",
    "        print(state)\n",
    "\n",
    "    def react(self):\n",
    "        if self.state.get('response'):\n",
    "            print(self.state['response'])\n",
    "\n",
    "        if self.state.get('trigger_orb_cutscene'):\n",
    "            Video(\"game_data/orb.mp4\")\n",
    "\n",
    "llm_chain = get_llm_chain()\n",
    "game = GameEngine(llm_chain)\n",
    "\n",
    "while True:\n",
    "    text = input(\">>> \")\n",
    "    if text == \"quit\":\n",
    "        break\n",
    "    game.input(text)\n",
    "    game.react()\n",
    "\n",
    "# for text in [\n",
    "#     \"I look around me.\",\n",
    "#     \"What is in my inventory?\",\n",
    "#     \"I open the north door\",\n",
    "#     \"I touch the orb.\"\n",
    "# ]:\n",
    "#     print(f\"PROMPT: {text}\")\n",
    "#     print(rag_chain.invoke(text))\n",
    "#     print('- - - - - - - - - - ')"
   ]
  },
  {
   "cell_type": "code",
   "execution_count": null,
   "id": "b919f54e-e7dc-42ea-915a-361cc014509e",
   "metadata": {},
   "outputs": [],
   "source": [
    "rag_chain.invoke(\"I open the door to the north\")\n"
   ]
  },
  {
   "cell_type": "code",
   "execution_count": null,
   "id": "b7f5cf3c-a706-4873-b961-4a56777dcfca",
   "metadata": {},
   "outputs": [],
   "source": [
    "rag_chain.invoke(\"What is in my inventory?\")"
   ]
  },
  {
   "cell_type": "code",
   "execution_count": null,
   "id": "1ec7a3c8-0c79-434b-a7f8-4ca921c00e6c",
   "metadata": {},
   "outputs": [],
   "source": []
  },
  {
   "cell_type": "code",
   "execution_count": null,
   "id": "a639b96f-a003-4f70-b91f-097dcc4fc6de",
   "metadata": {},
   "outputs": [],
   "source": []
  },
  {
   "cell_type": "code",
   "execution_count": null,
   "id": "14a110ac-e192-4c4c-8df7-9a8d3750bcee",
   "metadata": {},
   "outputs": [],
   "source": []
  },
  {
   "cell_type": "code",
   "execution_count": null,
   "id": "dd446e6e-800c-47d4-aa0c-d5ab65405837",
   "metadata": {},
   "outputs": [],
   "source": []
  }
 ],
 "metadata": {
  "kernelspec": {
   "display_name": "Python 3 (ipykernel)",
   "language": "python",
   "name": "python3"
  },
  "language_info": {
   "codemirror_mode": {
    "name": "ipython",
    "version": 3
   },
   "file_extension": ".py",
   "mimetype": "text/x-python",
   "name": "python",
   "nbconvert_exporter": "python",
   "pygments_lexer": "ipython3",
   "version": "3.11.1"
  }
 },
 "nbformat": 4,
 "nbformat_minor": 5
}
